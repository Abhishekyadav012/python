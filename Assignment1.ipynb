{
 "cells": [
  {
   "cell_type": "code",
   "execution_count": 2,
   "id": "dda44d1f-4e4c-4925-8046-3ded30e378b5",
   "metadata": {},
   "outputs": [],
   "source": [
    "#Q1. create one variable containg following type of data\n",
    "\n",
    "l=[\"abhi\",0,3.14]\n",
    "i=4\n",
    "f=56.78\n",
    "t=(10,'sudh',True,)"
   ]
  },
  {
   "cell_type": "code",
   "execution_count": 6,
   "id": "98484fa1-3f59-4e27-b47d-b0836e650264",
   "metadata": {},
   "outputs": [
    {
     "name": "stdout",
     "output_type": "stream",
     "text": [
      "<class 'str'>\n",
      "<class 'str'>\n",
      "<class 'list'>\n",
      "<class 'float'>\n"
     ]
    }
   ],
   "source": [
    "#Q2.\n",
    "var1=''\n",
    "var2='[DS,ML,PYTHON]'\n",
    "var3=['DS','ML', 'PYTHON']\n",
    "var4=1.\n",
    "print (type(var1))\n",
    "print (type(var2))\n",
    "print (type(var3))\n",
    "print (type(var4))"
   ]
  },
  {
   "cell_type": "code",
   "execution_count": null,
   "id": "9eb76667-82ab-44b6-8d5f-f55ca1c5df71",
   "metadata": {},
   "outputs": [],
   "source": [
    "#Q3.Explain the use of the following operator using the an example \n",
    "/# =division operator use of this operator division of two numbers\n",
    "%# =modulus operator it is also return reminder \n",
    "//# =floor division operator it is also return integer division \n",
    "**# = Exponent operator or power operator"
   ]
  },
  {
   "cell_type": "code",
   "execution_count": 7,
   "id": "3504da77-04e8-4e8f-a44a-3d3d238ba97a",
   "metadata": {},
   "outputs": [
    {
     "name": "stdout",
     "output_type": "stream",
     "text": [
      "6.5\n"
     ]
    }
   ],
   "source": [
    "a=13\n",
    "print(a/2)"
   ]
  },
  {
   "cell_type": "code",
   "execution_count": 8,
   "id": "bad6a0ff-3bb3-4051-add4-a1a240659e6e",
   "metadata": {},
   "outputs": [
    {
     "name": "stdout",
     "output_type": "stream",
     "text": [
      "1\n"
     ]
    }
   ],
   "source": [
    "b=13\n",
    "print (b%2)"
   ]
  },
  {
   "cell_type": "code",
   "execution_count": 9,
   "id": "8fbef59c-820b-441f-9f3e-ff08a6afc341",
   "metadata": {},
   "outputs": [
    {
     "name": "stdout",
     "output_type": "stream",
     "text": [
      "6\n"
     ]
    }
   ],
   "source": [
    "a=13\n",
    "print(a//2)"
   ]
  },
  {
   "cell_type": "code",
   "execution_count": 10,
   "id": "390b2ad7-7c6f-4896-941b-7b45f657f4dc",
   "metadata": {},
   "outputs": [
    {
     "name": "stdout",
     "output_type": "stream",
     "text": [
      "64\n"
     ]
    }
   ],
   "source": [
    "a=4\n",
    "print(a**3)\n"
   ]
  },
  {
   "cell_type": "code",
   "execution_count": 11,
   "id": "64e7028f-5424-4d39-9379-301af13ef6fb",
   "metadata": {},
   "outputs": [
    {
     "name": "stdout",
     "output_type": "stream",
     "text": [
      "10\n",
      "<class 'int'>\n",
      "abhi\n",
      "<class 'str'>\n",
      "3.14\n",
      "<class 'float'>\n",
      "4\n",
      "<class 'int'>\n",
      "sudh\n",
      "<class 'str'>\n",
      "78\n",
      "<class 'int'>\n",
      "67.3\n",
      "<class 'float'>\n",
      "durga\n",
      "<class 'str'>\n",
      "67.8\n",
      "<class 'float'>\n",
      "9\n",
      "<class 'int'>\n"
     ]
    }
   ],
   "source": [
    "#Q4.\n",
    "l=[10,'abhi',3.14,4,'sudh',78,67.3,'durga',67.8,9]\n",
    "for i in l:\n",
    "    print(i)\n",
    "    print(type(i))"
   ]
  },
  {
   "cell_type": "code",
   "execution_count": null,
   "id": "6789b410-e539-40db-ac4d-0cd28ed4cb17",
   "metadata": {},
   "outputs": [],
   "source": [
    "#Q5.\n",
    "a=int(input('Enter first number'))\n",
    "#b=int(input('Enter second number'))\n",
    "#c=0\n",
    "#while(a%b==0):\n",
    "    #c=c+1\n",
    "    #a//10\n",
    "#print (c)"
   ]
  },
  {
   "cell_type": "code",
   "execution_count": 20,
   "id": "bb9a7645-121d-4bfa-8e80-6362b45681f0",
   "metadata": {},
   "outputs": [
    {
     "name": "stdout",
     "output_type": "stream",
     "text": [
      "Not divisible by 3\n",
      "Not divisible by 3\n",
      "divisible by 3\n",
      "divisible by 3\n",
      "divisible by 3\n",
      "divisible by 3\n",
      "divisible by 3\n",
      "Not divisible by 3\n",
      "divisible by 3\n",
      "divisible by 3\n",
      "divisible by 3\n",
      "Not divisible by 3\n",
      "Not divisible by 3\n",
      "divisible by 3\n",
      "divisible by 3\n",
      "Not divisible by 3\n",
      "Not divisible by 3\n",
      "Not divisible by 3\n",
      "Not divisible by 3\n",
      "Not divisible by 3\n",
      "divisible by 3\n",
      "divisible by 3\n",
      "divisible by 3\n",
      "divisible by 3\n",
      "Not divisible by 3\n"
     ]
    }
   ],
   "source": [
    "#Q6.\n",
    "l=[24,15,17,88,98,65,74,78,25,10,65,42,15,35,98,75,45,75,75,96,70,85,25,14,36]\n",
    "for i in l:\n",
    "    if (i%3):\n",
    "        print ('divisible by 3')\n",
    "    else:\n",
    "        print('Not divisible by 3')\n",
    "        "
   ]
  },
  {
   "cell_type": "code",
   "execution_count": null,
   "id": "8870ec22-c304-4085-b7bb-1caaa1f6994a",
   "metadata": {},
   "outputs": [],
   "source": [
    "#Q7\n",
    "mutable=changeable'change the value of variable through the index\n",
    "\n",
    "immutable=Not changeable "
   ]
  },
  {
   "cell_type": "code",
   "execution_count": 23,
   "id": "760e4e91-7609-49f6-a992-04f98ff3df1f",
   "metadata": {},
   "outputs": [
    {
     "name": "stdout",
     "output_type": "stream",
     "text": [
      "6\n",
      "12\n"
     ]
    }
   ],
   "source": [
    "l=[1,6,'abhi',5.6]\n",
    "print(l[1])\n",
    "l[1]=12\n",
    "print(l[1])"
   ]
  },
  {
   "cell_type": "code",
   "execution_count": 24,
   "id": "054acedd-1d8c-4c88-a1f8-84054150755c",
   "metadata": {},
   "outputs": [
    {
     "name": "stdout",
     "output_type": "stream",
     "text": [
      "alok\n"
     ]
    }
   ],
   "source": [
    "t=(2,67,'alok')\n",
    "print(t[2])"
   ]
  },
  {
   "cell_type": "code",
   "execution_count": 26,
   "id": "2f4492e0-451e-49ba-9c0a-4b08efa9d237",
   "metadata": {},
   "outputs": [
    {
     "ename": "TypeError",
     "evalue": "'tuple' object does not support item assignment",
     "output_type": "error",
     "traceback": [
      "\u001b[0;31m---------------------------------------------------------------------------\u001b[0m",
      "\u001b[0;31mTypeError\u001b[0m                                 Traceback (most recent call last)",
      "Cell \u001b[0;32mIn[26], line 1\u001b[0m\n\u001b[0;32m----> 1\u001b[0m \u001b[43mt\u001b[49m\u001b[43m[\u001b[49m\u001b[38;5;241;43m2\u001b[39;49m\u001b[43m]\u001b[49m\u001b[38;5;241m=\u001b[39m\u001b[38;5;124m'\u001b[39m\u001b[38;5;124mravi\u001b[39m\u001b[38;5;124m'\u001b[39m\n\u001b[1;32m      2\u001b[0m \u001b[38;5;28mprint\u001b[39m(t[\u001b[38;5;241m2\u001b[39m])\n",
      "\u001b[0;31mTypeError\u001b[0m: 'tuple' object does not support item assignment"
     ]
    }
   ],
   "source": [
    "t[2]='ravi'\n",
    "print(t[2])"
   ]
  },
  {
   "cell_type": "code",
   "execution_count": null,
   "id": "ed22df84-9c34-405b-aa5c-5522528eee18",
   "metadata": {},
   "outputs": [],
   "source": []
  }
 ],
 "metadata": {
  "kernelspec": {
   "display_name": "Python 3 (ipykernel)",
   "language": "python",
   "name": "python3"
  },
  "language_info": {
   "codemirror_mode": {
    "name": "ipython",
    "version": 3
   },
   "file_extension": ".py",
   "mimetype": "text/x-python",
   "name": "python",
   "nbconvert_exporter": "python",
   "pygments_lexer": "ipython3",
   "version": "3.10.8"
  }
 },
 "nbformat": 4,
 "nbformat_minor": 5
}
